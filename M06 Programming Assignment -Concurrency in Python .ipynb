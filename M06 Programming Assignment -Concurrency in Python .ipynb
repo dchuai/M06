{
 "cells": [
  {
   "cell_type": "code",
   "execution_count": 17,
   "id": "29096a3d",
   "metadata": {},
   "outputs": [
    {
     "name": "stdout",
     "output_type": "stream",
     "text": [
      "Current date '2023-11-26' has been written to today.txt\n"
     ]
    }
   ],
   "source": [
    "# 13.1 Write the current date as a string to the text file today.txt:\n",
    "\n",
    "# Step 1: Import the necessary module\n",
    "from datetime import date\n",
    "\n",
    "# Step 2: Get the current date as a string\n",
    "current_date = str(date.today())\n",
    "\n",
    "# Step 3: Open the file in write mode ('w')\n",
    "with open('today.txt', 'w') as file:\n",
    "\n",
    "    # Step 4: Write the current date to the file\n",
    "    file.write(current_date)\n",
    "\n",
    "# Step 5: Print a message to confirm the operation\n",
    "print(f\"Current date '{current_date}' has been written to today.txt\")\n"
   ]
  },
  {
   "cell_type": "code",
   "execution_count": 15,
   "id": "6cefd040",
   "metadata": {},
   "outputs": [
    {
     "name": "stdout",
     "output_type": "stream",
     "text": [
      "Content of today.txt: from datetime import datetime\n",
      "\n",
      "# Get the current date as a string\n",
      "current_date_string = datetime.now().strftime(\"%Y-%m-%d %H:%M:%S\")\n",
      "\n",
      "# Write the string to today.txt\n",
      "with open('today.txt', 'w') as file:\n",
      "    file.write(current_date_string)\n"
     ]
    }
   ],
   "source": [
    "# 13.2 Read the text file today.txt into the string today_string:\n",
    "\n",
    "# Step 1: Open the file in read mode ('r')\n",
    "with open('today.txt', 'r') as file:\n",
    "\n",
    "    # Step 2: Read the content of the file into today_string\n",
    "    today_string = file.read()\n",
    "\n",
    "# Step 3: Print the content of today_string\n",
    "print(\"Content of today.txt:\", today_string)"
   ]
  },
  {
   "cell_type": "code",
   "execution_count": 22,
   "id": "7e9e703e",
   "metadata": {},
   "outputs": [
    {
     "name": "stdout",
     "output_type": "stream",
     "text": [
      "Error: Unable to parse the date from today_string.\n"
     ]
    }
   ],
   "source": [
    "# 13.3 Parse the date from today_string:\n",
    "\n",
    "# Step 1: Import the necessary module\n",
    "from datetime import datetime\n",
    "\n",
    "# Step 2: Parse the date from today_string\n",
    "try:\n",
    "    parsed_date = datetime.strptime(today_string, '%Y-%m-%d')\n",
    "    # Note: Adjust the date format ('%Y-%m-%d') based on the actual format in your today.txt file.\n",
    "    # The format used here is for YYYY-MM-DD.\n",
    "except ValueError:\n",
    "    print(\"Error: Unable to parse the date from today_string.\")\n",
    "\n",
    "# Step 3: Print the parsed date\n",
    "if 'parsed_date' in locals():\n",
    "    print(\"Parsed date:\", parsed_date)"
   ]
  },
  {
   "cell_type": "code",
   "execution_count": 21,
   "id": "bdb8f884",
   "metadata": {},
   "outputs": [
    {
     "name": "stdout",
     "output_type": "stream",
     "text": [
      "All processes have finished.\n"
     ]
    }
   ],
   "source": [
    "# 15.1 Use multiprocessing to create three separate processes:\n",
    "\n",
    "# Step 1: Import the necessary modules\n",
    "import multiprocessing\n",
    "import random\n",
    "import time\n",
    "from datetime import datetime\n",
    "\n",
    "# Step 2: Define a function for each process\n",
    "def print_current_time(process_number):\n",
    "    # Generate a random sleep time between 0 and 1 seconds\n",
    "    sleep_time = random.random()\n",
    "    \n",
    "    # Sleep for the random time\n",
    "    time.sleep(sleep_time)\n",
    "    \n",
    "    # Get the current time\n",
    "    current_time = datetime.now().strftime('%H:%M:%S')\n",
    "    \n",
    "    # Print the current time and process number\n",
    "    print(f\"Process {process_number} - Current Time: {current_time}\")\n",
    "    \n",
    "# Step 3: Create three separate processes\n",
    "if __name__ == \"__main__\":\n",
    "    for i in range(3):\n",
    "        process = multiprocessing.Process(target=print_current_time, args=(i,))\n",
    "        process.start()\n",
    "\n",
    "    # Step 4: Wait for all processes to finish\n",
    "    for process in multiprocessing.active_children():\n",
    "        process.join()\n",
    "\n",
    "# Step 5: Print a message when all processes have completed\n",
    "print(\"All processes have finished.\")\n"
   ]
  },
  {
   "cell_type": "code",
   "execution_count": null,
   "id": "1432327e",
   "metadata": {},
   "outputs": [],
   "source": []
  }
 ],
 "metadata": {
  "kernelspec": {
   "display_name": "Python 3 (ipykernel)",
   "language": "python",
   "name": "python3"
  },
  "language_info": {
   "codemirror_mode": {
    "name": "ipython",
    "version": 3
   },
   "file_extension": ".py",
   "mimetype": "text/x-python",
   "name": "python",
   "nbconvert_exporter": "python",
   "pygments_lexer": "ipython3",
   "version": "3.11.5"
  }
 },
 "nbformat": 4,
 "nbformat_minor": 5
}
